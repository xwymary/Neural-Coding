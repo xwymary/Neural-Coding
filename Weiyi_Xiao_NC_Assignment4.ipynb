{
 "cells": [
  {
   "cell_type": "code",
   "execution_count": 1,
   "metadata": {},
   "outputs": [],
   "source": [
    "from IPython.display import display, Math, Latex\n",
    "import numpy as np\n",
    "from matplotlib import pyplot as plt\n",
    "from scipy.optimize import broyden1\n",
    "%matplotlib inline"
   ]
  },
  {
   "cell_type": "markdown",
   "metadata": {},
   "source": [
    "__1. Plot the Fisher Information $J(s)$ for the Bernoulli neuron and for a Poisson, assuming $f(s) = \\frac{1}{s^2+1}$, as a function of $s$.__"
   ]
  },
  {
   "cell_type": "markdown",
   "metadata": {},
   "source": [
    "$\n",
    "\\begin{align*}\n",
    "&\\text{From Hw3 Q3 we know that for a Bernoulli Neuron with tuning curve } f(s).\n",
    "\\text{ The Fisher Information } J_s \\text{ is:}\\\\\n",
    "&J(s)=(f'(s))^2\\frac{1}{f(s)(1-f(s))}\\\\\n",
    "&\\because f(s) = \\frac{1}{s^2+1}\\\\\n",
    "&\\therefore f'(s) = \\frac{-2s}{(1+s^2)^2}\\\\\n",
    "&\\therefore J(s) = \\frac{4s^2}{(1+s^2)^4}(s^2+1)\\frac{s^2+1}{s^2} = \\frac{4}{(1+s^2)^2}\n",
    "\\end{align*}\n",
    "$\n",
    "\n",
    "$\n",
    "\\begin{align*}\n",
    "&\\text{From Lecture 4 slides 11, we know that for neuron with Poisson noise, the Fisher Information } J_s \\text{ is:}\\\\\n",
    "&J(s) = (f'(s))^2\\frac{1}{f(s)}\\\\\n",
    "&\\therefore J(s) = \\frac{4s^2}{(1+s^2)^4}(1+s^2)=\\frac{4s^2}{(1+s^2)^3}\n",
    "\\end{align*}\n",
    "$"
   ]
  },
  {
   "cell_type": "code",
   "execution_count": 2,
   "metadata": {},
   "outputs": [
    {
     "data": {
      "text/plain": [
       "Text(0.5, 1.0, 'Fisher Information J(s) for a Poisson Neuron')"
      ]
     },
     "execution_count": 2,
     "metadata": {},
     "output_type": "execute_result"
    },
    {
     "data": {
      "image/png": "[encoded data removed]",
      "text/plain": [
       "<Figure size 1080x288 with 2 Axes>"
      ]
     },
     "metadata": {
      "needs_background": "light"
     },
     "output_type": "display_data"
    }
   ],
   "source": [
    "s = np.arange(-5,5,0.1)\n",
    "Js_Bernoulli = 4/(1+s**2)**2\n",
    "Js_Poisson = 4*s**2/(1+s**2)**3\n",
    "plt.figure(figsize=(15, 4))\n",
    "plt.subplot(1,2,1)\n",
    "plt.plot(s,Js_Bernoulli)\n",
    "plt.ylim([0,5])\n",
    "plt.xlabel('s')\n",
    "plt.ylabel('J(s)')\n",
    "plt.title('Fisher Information J(s) for a Bernoulli Neuron')\n",
    "plt.subplot(1,2,2)\n",
    "plt.plot(s,Js_Poisson)\n",
    "plt.ylim([0,5])\n",
    "plt.xlabel('s')\n",
    "plt.ylabel('J(s)')\n",
    "plt.title('Fisher Information J(s) for a Poisson Neuron')"
   ]
  },
  {
   "cell_type": "markdown",
   "metadata": {},
   "source": [
    "__2. For the Bernoulli neuron with $f(s) = \\frac{1}{1+s^2}$ from previous task.<br>\n",
    "(a) Compute the minimum discrimination error for the two stimuli $s_1 = 1$ and $s_2 = 2$ assuming equal prior probability for the two stimuli.__"
   ]
  },
  {
   "cell_type": "markdown",
   "metadata": {},
   "source": [
    "$\n",
    "\\begin{align*}\n",
    "\\text{For the neuron with Bernoulli noise:}\\\\\n",
    "\\end{align*}\n",
    "$\n",
    "\n",
    "$\n",
    "\\begin{align*}\n",
    "&P(r|f(s)) = f(s)^r (1-f(s))^{1-r}\\\\\n",
    "&\\therefore P(r|s) = \\big( \\frac{1}{1+s^2} \\big)^r \\big( \\frac{s^2}{1+s^2} \\big)^{1-r}\\\\\n",
    "&MDE = \\int \\! \\min\\{P(r|s_1)P(s_1), P(r|s_2)P(s_2)\\} \\, \\mathrm{d}s\\\\\n",
    "&\\text{Assuming equal prior probability for the two stimuli}\n",
    "\\Rightarrow P(s_1) = P(s_2)=0.5\n",
    "\\end{align*}\n",
    "$\n",
    "\n",
    "$\n",
    "\\begin{align*}\n",
    "P(r|s_1)P(s_1)=(\\frac{1}{2})^r(\\frac{1}{2})^{1-r}\\cdot 0.5 = \n",
    " \\begin{cases}\n",
    "      0.25, & r=0 \\\\\n",
    "      0.25, & r=1\n",
    " \\end{cases}\n",
    "\\end{align*}\n",
    "$\n",
    "\n",
    "$\n",
    "\\begin{align*}\n",
    "P(r|s_2)P(s_2)=(\\frac{1}{5})^r(\\frac{4}{5})^{1-r}\\cdot 0.5 = \\frac{4^{1-r}}{10} = \n",
    " \\begin{cases}\n",
    "      0.4, & r=0 \\\\\n",
    "      0.1, & r=1\n",
    " \\end{cases}\n",
    "\\end{align*}\n",
    "$\n",
    "\n",
    "$\n",
    "\\begin{align*}\n",
    "MDE &= \\sum_{r=0}^{1} \\min\\{P(r|s_1)P(s_1), P(r|s_2)P(s_2)\\} \\\\\n",
    "&= 0.25+0.1 = 0.35\n",
    "\\end{align*}\n",
    "$\n"
   ]
  },
  {
   "cell_type": "markdown",
   "metadata": {},
   "source": [
    "__(b) Generalize the computation in (a) to arbitrary $s_2$. Plot the MDE as a function of $s_2 > 1$.__"
   ]
  },
  {
   "cell_type": "markdown",
   "metadata": {},
   "source": [
    "$\n",
    "\\begin{align*}\n",
    "&\\text{For arbitrary $s_2$:}\\\\\n",
    "&P(r|s_2)P(s_2)=(\\frac{1}{1+s_2^2})^r(\\frac{s_2^2}{1+s_2^2})^{1-r}\\cdot 0.5 =\n",
    " \\begin{cases}\n",
    "      \\frac{s_2^2}{2(1+s_2^2)}, & r=0 \\\\\n",
    "      \\frac{1}{2(1+s_2^2)}, & r=1\n",
    " \\end{cases}\n",
    "\\end{align*}\n",
    "$\n",
    "\n",
    "$\n",
    "\\begin{align*}\n",
    "\\because s_2>1\\\\\n",
    "\\end{align*}\n",
    "$\n",
    "\n",
    "$\n",
    "\\begin{align*}\n",
    "\\therefore &\\frac{s_2^2}{2\\,(1+s_2^2)} = \\frac{1}{2\\,(\\frac{1}{s_2^2}+1)} > \\frac{1}{2 \\cdot 2}\\\\\n",
    "&\\frac{1}{2(1+s_2^2)} < \\frac{1}{2 \\cdot 2}\n",
    "\\end{align*}\n",
    "$\n",
    "\n",
    "$\n",
    "\\begin{align*}\n",
    "\\therefore MDE &= \\sum_{r=0}^{1} \\min\\{P(r|s_1)P(s_1), P(r|s_2)P(s_2)\\} \\\\\n",
    "&= 0.25 + \\frac{1}{2(1+s_2^2)}\n",
    "\\end{align*}\n",
    "$"
   ]
  },
  {
   "cell_type": "code",
   "execution_count": 3,
   "metadata": {},
   "outputs": [
    {
     "data": {
      "image/png": "[encoded data removed]",
      "text/plain": [
       "<Figure size 648x288 with 1 Axes>"
      ]
     },
     "metadata": {
      "needs_background": "light"
     },
     "output_type": "display_data"
    }
   ],
   "source": [
    "s = np.arange(1+0.01,20,0.01)\n",
    "MDE = 0.25+0.5/(1+s**2)\n",
    "plt.figure(figsize=(9, 4))\n",
    "plt.plot(s,MDE)\n",
    "plt.ylim([0.24,0.51])\n",
    "plt.xlabel('$s_2$')\n",
    "plt.ylabel('MDE')\n",
    "plt.title('MDE as a function of $s_2>1$')\n",
    "plt.show()"
   ]
  },
  {
   "cell_type": "markdown",
   "metadata": {},
   "source": [
    "__(c) Plot the two MDE bounds from the lecture as a function of $s_2 > 1$.__"
   ]
  },
  {
   "cell_type": "markdown",
   "metadata": {},
   "source": [
    "$\n",
    "\\begin{align*}\n",
    "&I_{JS} (s_1,s_2) =\\frac{1}{2} D_{KL} [\\,p(r|s_1)\\parallel p(r)] + \\frac{1}{2} D_{KL} [\\,p(r|s_2)\\parallel p(r)]\\\\\n",
    "&s_1=1, s_2>1, \\Delta s = s_2-s_1\n",
    "\\end{align*}\n",
    "$\n",
    "\n",
    "$\n",
    "\\begin{align*}\n",
    "&\\text{On lecture 5 slides 10, it was shown that:}\\\\\n",
    "&\\varepsilon(\\Delta s) \\leqslant \\frac{1}{2} - \\frac{1}{2}\\mathcal{I}_{JS}(\\Delta s)\n",
    "\\quad (\\text{Upper bound})\\\\\n",
    "\\end{align*}\n",
    "$\n",
    "\n",
    "$\n",
    "\\begin{align*}\n",
    "&\\text{Use Fano's inequality:}\\\\\n",
    "&H[\\varepsilon] \\geqslant 1-\\mathcal{I}_{JS}(\\Delta s) = 1-\\frac{(\\Delta s)^2}{8}\\\\\n",
    "&\\text{The entropy of Bernoulli variable is: }\\\\\n",
    "&H[p] = -p\\log p -(1-p)\\log(1-p)\\\\\n",
    "&\\therefore \\varepsilon(\\Delta s) \\geqslant H_B^{-1}(1-\\mathcal{I}_{JS}(\\Delta s))\n",
    "\\quad (\\text{Lower bound})\n",
    "\\end{align*}\n",
    "$"
   ]
  },
  {
   "cell_type": "code",
   "execution_count": 4,
   "metadata": {},
   "outputs": [
    {
     "data": {
      "image/png": "[encoded data removed]",
      "text/plain": [
       "<Figure size 648x288 with 1 Axes>"
      ]
     },
     "metadata": {
      "needs_background": "light"
     },
     "output_type": "display_data"
    }
   ],
   "source": [
    "prob_r_given_s = lambda r,s: s**(2-2*r)/(1+s**2)\n",
    "prob_r = lambda r,s2: 0.5*prob_r_given_s(r,1)+0.5*prob_r_given_s(r,s2)  #s1=1\n",
    "def D_KL(s,s2):\n",
    "    s1 = 1\n",
    "    r=[0,1]\n",
    "    SUM = 0\n",
    "    for i in range(len(r)):\n",
    "        SUM += prob_r_given_s(r[i],s)*np.log2(prob_r(r[i],s2)/prob_r_given_s(r[i],s))\n",
    "    result = -SUM\n",
    "    return result\n",
    "I_JS = lambda s2: 0.5*D_KL(1,s2)+0.5*D_KL(s2,s2)\n",
    "upper_bound = lambda s2: 0.5-0.5*I_JS(s2)\n",
    "\n",
    "def H_half(p):\n",
    "# use the left half of the entropy function for finding inverse later\n",
    "    result = 0\n",
    "    if (p>0) and (p<.5):  \n",
    "        result = -p*np.log2(p)-(1-p)*np.log2(1-p)\n",
    "    return result\n",
    "\n",
    "def lower_bound(s2):\n",
    "    result = []\n",
    "    for i in range(len(s2)):\n",
    "        func = lambda p: H_half(p)-(1-I_JS(s2[i]))\n",
    "        root = broyden1(func, xin=0.25)\n",
    "        result.append(root)\n",
    "    return result\n",
    "\n",
    "s2 = np.arange(1+0.01,20,0.01)\n",
    "MDE = 0.25+0.5/(1+s2**2)\n",
    "\n",
    "plt.figure(figsize=(9, 4))\n",
    "plt.plot(s2,upper_bound(s2),label='upper bound')\n",
    "plt.plot(s2,MDE,label='MDE')\n",
    "plt.plot(s2,lower_bound(s2),label='lower bound')\n",
    "plt.legend()\n",
    "plt.xlabel('$s_2$')\n",
    "plt.ylabel('MDE')\n",
    "plt.title('MDE with upper and lower bounds')\n",
    "plt.show()"
   ]
  },
  {
   "cell_type": "markdown",
   "metadata": {},
   "source": [
    "__3. Let the stimulus have one of two values s1 and s2 with equal probabilities. Show that the Jensen-Shannon-Divergence:<br>\n",
    "$I_{JS} (s_1,s_2) =\\frac{1}{2} D_{KL} [\\,p(r|s_1)\\parallel p(r)] + \\frac{1}{2} D_{KL} [\\,p(r|s_2)\\parallel p(r)]$<br>\n",
    "Is equal to the mutual information between the response and the class of stimulus I ∈{1,2} (p(I = 1) = 0.5)<br>\n",
    "$MI(r,I) =\\sum_{i=1}^{2} \\int_{-\\infty}^{\\infty} p(r,i)\\log \\frac{p(r,i)}{p(r)p(i)} \\mathrm{d}r$__\n"
   ]
  },
  {
   "cell_type": "markdown",
   "metadata": {},
   "source": [
    "$\n",
    "\\begin{align*}\n",
    "I_{JS} (s_1,s_2) &=\\frac{1}{2} D_{KL} [\\,p(r|s_1)\\parallel p(r)] + \\frac{1}{2} D_{KL} [\\,p(r|s_2)\\parallel p(r)]\\\\\n",
    "&= \\frac{1}{2} \\int_{-\\infty}^{\\infty} \\! p(r|s_1) \\log \\frac{p(r|s_1)}{p(r)} \\, \\mathrm{d}r\n",
    "+ \\frac{1}{2} \\int_{-\\infty}^{\\infty} \\! p(r|s_2) \\log \\frac{p(r|s_2)}{p(r)} \\, \\mathrm{d}r\n",
    "\\end{align*}\n",
    "$\n",
    "\n",
    "$\n",
    "\\begin{align*}\n",
    "MI(r,I) &=\\sum_{i=1}^{2} \\int_{-\\infty}^{\\infty} \\! p(r,i)\\log \\frac{p(r,i)}{p(r)p(i)} \\, \\mathrm{d}r\\\\\n",
    "&= \\int_{-\\infty}^{\\infty} \\! p(r|I=1)p(I=1)\\log \\frac{p(r|I=1)p(I=1)}{p(r)p(I=1)} \\, \\mathrm{d}r\n",
    "+ \\int_{-\\infty}^{\\infty} \\! p(r|I=2)p(I=2)\\log \\frac{p(r|I=2)p(I=2)}{p(r)p(I=2)} \\, \\mathrm{d}r\n",
    "\\end{align*}\n",
    "$\n",
    "<br><br>\n",
    "$\n",
    "\\begin{align*}\n",
    "&\\because p(I=1) = p(I=2) = 0.5\\\\\n",
    "&\\therefore MI(r,I) = \\frac{1}{2}\\int_{-\\infty}^{\\infty} \\! p(r|I=1)\\log \\frac{p(r|I=1)}{p(r)} \\, \\mathrm{d}r\n",
    "+ \\frac{1}{2}\\int_{-\\infty}^{\\infty} \\! p(r|I=2)\\log \\frac{p(r|I=2)}{p(r)} \\, \\mathrm{d}r\n",
    "\\end{align*}\n",
    "$\n",
    "\n",
    "$\n",
    "\\begin{align*}\n",
    "\\text{Let } &I=1 \\Rightarrow s_1\\\\\n",
    "&I=2 \\Rightarrow s_2\n",
    "\\end{align*}\n",
    "$\n",
    "\n",
    "$\n",
    "\\begin{align*}\n",
    "\\therefore MI(r,I) = I_{JS} (s_1,s_2)\n",
    "\\end{align*}\n",
    "$"
   ]
  },
  {
   "cell_type": "markdown",
   "metadata": {},
   "source": [
    "__4.∗ In this task we will try to understand why $d' = \\sqrt{\\Delta \\mu^T \\Sigma^{−1} \\Delta \\mu}$ measures the minimal linear discrimination error via<br>\n",
    "$LDE = 1−\\Psi(d'/2)$,<br>\n",
    "with $\\Psi$ a CDF of normal distribution $\\Delta \\mu = f(s)−f(s+\\Delta s)$ for any Gaussian population model with $r \\sim \\mathcal{N}(f(s),\\Sigma)$.<br><br>\n",
    "(a) Write down the optimal linear classiﬁer for two normal distributions with arbitrary means $\\mu_1, \\mu_2$ covariance matrices $\\Sigma_1, \\Sigma_2$ and equal class probabilities.__"
   ]
  },
  {
   "cell_type": "markdown",
   "metadata": {},
   "source": [
    "$\n",
    "\\begin{align*}\n",
    "\\text{We want to maximize J:}\\\\\n",
    "\\end{align*}\n",
    "$\n",
    "\n",
    "$\n",
    "\\begin{align*}\n",
    "J &= \\frac{\\parallel \\omega^T \\mu_1 - \\omega^T\\mu_2 \\parallel_2^2}{\\omega^T \\Sigma_1 \\omega + \\omega^T \\Sigma_2 \\omega}\\\\\n",
    "&= \\frac{\\omega^T (\\mu_1-\\mu_2)(\\mu_1-\\mu_2)^T \\omega}{\\omega^T (\\Sigma_1+\\Sigma_2) \\omega}\n",
    "\\quad ,\\text{where }\\omega \\text{ is the direction of projection}\n",
    "\\end{align*}\n",
    "$\n",
    "\n",
    "$\n",
    "\\begin{align*}\n",
    "&\\text{Define the within-class scatter matrix: }\\\\\n",
    "& S_w = \\Sigma_1+\\Sigma_2\\\\\n",
    "&\\text{And the between-class scatter matrix:}\\\\\n",
    "& S_b = (\\mu_1-\\mu_2)(\\mu_1-\\mu_2)^T\n",
    "\\end{align*}\n",
    "$\n",
    "\n",
    "$\n",
    "\\begin{align*}\n",
    "&\\text{The generalized Rayleigh quotient is:}\n",
    "& J = \\frac{\\omega^T S_b \\omega}{\\omega^T S_w \\omega}\n",
    "\\end{align*}\n",
    "$\n",
    "\n",
    "$\n",
    "\\begin{align*}\n",
    "&\\omega\\text{ is a second order term on both numerator and denominator, so the length of } \\omega \n",
    "\\text{has no effect on J.}\\\\\n",
    "&\\text{ so we can set } \\omega^T S_w \\omega = 1 \\text{ without loss of generalization.}\\\\\n",
    "&\\text{Then, maximize J is equal to :}\\\\\n",
    "& max \\quad \\omega^T S_b \\omega\\\\\n",
    "& s.t. \\quad \\omega^T S_w \\omega = 1 \n",
    "\\end{align*}\n",
    "$\n",
    "\n",
    "$\n",
    "\\begin{align*}\n",
    "\\text{Use Lagrange multipliers: } &L = \\omega^T S_b \\omega - \\lambda (\\omega^T S_w \\omega - 1)\n",
    "\\quad \\quad ,\\text{using } \\frac{\\partial x^T B x}{\\partial x} = (B + B^T) x\\\\\n",
    "&\\frac{\\partial L}{\\partial \\omega} = 2 S_b \\omega - 2 \\lambda S_w \\omega = 0 \n",
    "\\quad \\Rightarrow \\, S_b\\omega = \\lambda S_w \\omega,\\\\\n",
    "\\end{align*}\n",
    "$\n",
    "\n",
    "$\n",
    "\\begin{align*}\n",
    "&\\text{We noticed that } S_b\\omega = (\\mu_1-\\mu_2)(\\mu_1-\\mu_2)^T \\omega, \n",
    "\\text{where }(\\mu_1-\\mu_2)^T \\omega \\text{ is a scalar.}\\\\\n",
    "&\\text{So, } S_w \\omega = \\lambda_1 \\,  (\\mu_1-\\mu_2)\\\\\n",
    "&\\therefore \\omega = S_w^{-1}(\\mu_1-\\mu_2) = (\\Sigma_1+\\Sigma_2)^{-1}(\\mu_1-\\mu_2)\\\\\n",
    "&\\therefore Y = \\omega^T X \\text{ is the projection that best separate these two classes.}\n",
    "\\end{align*}\n",
    "$"
   ]
  },
  {
   "cell_type": "markdown",
   "metadata": {},
   "source": [
    "__(b) Show that d' measures the minimal linear discrimination error.__"
   ]
  },
  {
   "cell_type": "markdown",
   "metadata": {},
   "source": [
    "Inspirations from http://users.stat.umn.edu/~helwig/notes/discla-Notes.pdf slides 33~38, I completedsome missing steps on the slides."
   ]
  },
  {
   "cell_type": "markdown",
   "metadata": {},
   "source": [
    "![title](Q4b_1.jpg)"
   ]
  },
  {
   "cell_type": "markdown",
   "metadata": {},
   "source": [
    "$\n",
    "\\begin{align*}\n",
    "&\\text{In this question, We consider two Gaussians with same convariance and different means.}\\\\\n",
    "&\\text{Therefore, }\\omega = S_w^{-1}(\\mu_1-\\mu_2) = (\\Sigma_1+\\Sigma_2)^{-1}(\\mu_1-\\mu_2) \n",
    "= \\frac{1}{2} \\Sigma^{-1} (\\mu_1-\\mu_2)\\\\\n",
    "&\\text{Again, the length of $\\omega$ doesn't matter, so we can rewrite it into: }\n",
    "\\omega = \\Sigma^{-1} (\\mu_1-\\mu_2)\n",
    "\\end{align*}\n",
    "$\n",
    "\n",
    "$\n",
    "\\begin{align*}\n",
    "\\text{Let } &f_1(x) \\sim \\mathcal{N}(\\mu_1,\\Sigma) \\text{ denote the pdf for population } \\pi_1\\\\\n",
    "&f_2(x) \\sim \\mathcal{N}(\\mu_2,\\Sigma) \\text{ denote the pdf for population } \\pi_2\\\\\n",
    "\\end{align*}\n",
    "$\n",
    "\n",
    "$\n",
    "\\begin{align*}\n",
    "&\\text{The projection process is:}\\\\\n",
    "&\\quad Y = \\omega^T X = (\\mu_1 - \\mu_2)^T \\Sigma^{-1} X, \\quad \\text{where } X \\text{ is the data matrix}\\\\\n",
    "\\end{align*}\n",
    "$\n",
    "\n",
    "$\n",
    "\\begin{align*}\n",
    "\\therefore \\, \\, &\\mu_{Y_1} = \\omega^T \\mu_1 = (\\mu_1-\\mu_2)^T\\Sigma^{-1}\\mu_1\\\\\n",
    "&\\mu_{Y_2} = \\omega^T \\mu_2 = (\\mu_1-\\mu_2)^T\\Sigma^{-1}\\mu_2\\\\\n",
    "&\\sigma_Y^2 = \\omega^T \\Sigma \\omega = (\\mu_1-\\mu_2)^T\\Sigma^{-1} \\Sigma \\, \\, \\Sigma^{-1} (\\mu_1-\\mu_2)\n",
    "= (\\mu_1-\\mu_2)^T\\Sigma^{-1} (\\mu_1-\\mu_2) = (d')^2\\\\\n",
    "& \\text{And the class separation is at: } m = \\frac{1}{2}(\\mu_{Y_1}+\\mu_{Y_2}) = \\frac{1}{2} (\\mu_1-\\mu_2)^T\\Sigma^{-1}(\\mu_1+\\mu_2)\\\\\n",
    "&(\\text{Assuming equal class probabilities and equal misclassification cost})\\\\\n",
    "\\end{align*}\n",
    "$\n",
    "\n",
    "$\n",
    "\\begin{align*}\n",
    "\\text{After projection, data from population } \\pi_1 \\text{ falls into } Y_1 \\sim \\mathcal{N}(\\mu_{Y_1}, (d')^2),\\\\\n",
    "\\text{data from population } \\pi_2 \\text{ falls into } Y_2 \\sim \\mathcal{N}(\\mu_{Y_2}, (d')^2).\n",
    "\\end{align*}\n",
    "$\n",
    "\n",
    "$\n",
    "\\begin{align*}\n",
    "P(\\text{misclassify $\\pi_1$ as $\\pi_2$}) &= P(Y_1 < m) \\\\\n",
    "&= P \\big(z = \\frac{Y_1-\\mu_{Y_1}}{\\sigma_Y} < \\frac{m-\\mu_{Y_1}}{\\sigma_Y} \\big)\\\\\n",
    "&= P \\big(z<\\frac{\\frac{1}{2}(\\mu_{Y_1}+\\mu_{Y_2})-\\mu_{Y_1}}{\\sigma_Y} = \\frac{\\frac{1}{2}(\\mu_{Y_2}-\\mu_{Y_1})}{\\sigma_Y}\\big)\\\\\n",
    "&= P(z < \\frac{-\\frac{1}{2}(d')^2}{d'}) = \\Psi(-\\frac{d'}{2})\n",
    "\\end{align*}\n",
    "$\n",
    " \n",
    "$\n",
    "\\begin{align*}\n",
    "\\Psi(\\cdot) \\text{ denotes the CDF of the standard normal distribution, so } \\Psi(-\\frac{d'}{2}) = 1-\\Psi(\\frac{d'}{2})\n",
    "\\end{align*}\n",
    "$\n",
    "\n",
    "$\n",
    "\\begin{align*}\n",
    "&P(\\text{misclassify $\\pi_2$ as $\\pi_1$}) = P(\\text{misclassify $\\pi_1$ as $\\pi_2$}), \n",
    "\\text{because $Y_1$ and $Y_2$ have same variance }\\\\ \n",
    "\\\\\n",
    "&\\text{Assume they have equal class probabilities, }p_1 = p_2 = 0.5,\\\\\n",
    "&\\text{then } LDE = p_1 \\cdot P(\\text{misclassify $\\pi_1$ as $\\pi_2$}) \n",
    "+ p_2 \\cdot P(\\text{misclassify $\\pi_2$ as $\\pi_1$}) = 1-\\Psi(\\frac{d'}{2})\n",
    "\\end{align*}\n",
    "$\n",
    "\n",
    "$\n",
    "\\begin{align*}\n",
    "\\therefore d' = \\sqrt{\\Delta \\mu^T \\Sigma^{−1} \\Delta \\mu} \\,\\, \n",
    "\\text{ measures the minimal linear discrimination error via } \\,\n",
    "LDE = 1−\\Psi(d'/2)\n",
    "\\end{align*}\n",
    "$\n"
   ]
  }
 ],
 "metadata": {
  "kernelspec": {
   "display_name": "Python 3",
   "language": "python",
   "name": "python3"
  },
  "language_info": {
   "codemirror_mode": {
    "name": "ipython",
    "version": 3
   },
   "file_extension": ".py",
   "mimetype": "text/x-python",
   "name": "python",
   "nbconvert_exporter": "python",
   "pygments_lexer": "ipython3",
   "version": "3.8.3"
  }
 },
 "nbformat": 4,
 "nbformat_minor": 2
}
