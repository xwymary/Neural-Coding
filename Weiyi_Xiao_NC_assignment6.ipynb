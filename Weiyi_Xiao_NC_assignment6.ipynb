{
 "cells": [
  {
   "cell_type": "code",
   "execution_count": 1,
   "metadata": {},
   "outputs": [],
   "source": [
    "import numpy as np"
   ]
  },
  {
   "cell_type": "markdown",
   "metadata": {},
   "source": [
    "__1. Let random variable $X$ be a discrete random variable with values\n",
    "$\\{−3, −2, −1, 0, 1, 2, 3\\}$, obtained with the same probability $p = 1/7$. Let\n",
    "the second random variable $Y$be the absolute value of $X, Y = |X|$.__"
   ]
  },
  {
   "cell_type": "markdown",
   "metadata": {},
   "source": [
    "__(a) Compute on a paper cov(X, Y )__"
   ]
  },
  {
   "cell_type": "markdown",
   "metadata": {},
   "source": [
    "$\n",
    "\\begin{align*}\n",
    "\\mu_{X} = \\frac{-3-2-1+0+1+2+3}{7} = 0\\\\\n",
    "\\mu_{Y} = \\frac{3+2+1+0+1+2+3}{7} = \\frac{12}{7}\\\\\n",
    "\\end{align*}\n",
    "$\n",
    "\n",
    "$\n",
    "\\begin{align*}\n",
    "cov(X,Y) &= \\frac{\\sum_{i} (X_i-\\mu_{X})(Y_i-\\mu_{Y})}{N-1}\\\\\n",
    "&= \\frac{-3\\times\\frac{9}{7}-2\\times\\frac{2}{7}+\\frac{5}{7}+0-\\frac{5}{7}+2\\times\\frac{2}{7}+3\\times\\frac{9}{7}}{6}=0\n",
    "\\end{align*}\n",
    "$"
   ]
  },
  {
   "cell_type": "markdown",
   "metadata": {},
   "source": [
    "__(b) Compute mutual information between X and Y__"
   ]
  },
  {
   "cell_type": "markdown",
   "metadata": {},
   "source": [
    "<img src=\"part_b.jpg\" align=\"left\" width=600 height=600 />"
   ]
  },
  {
   "cell_type": "markdown",
   "metadata": {},
   "source": [
    "<p> More ways to calculate mutual information:</p>\n",
    "<img src=\"part_b_note.png\" align=\"left\" width=300 height=300 />\n",
    "<p> From \n",
    "    <a href=\"https://en.wikipedia.org/wiki/Mutual_information\"> https://en.wikipedia.org/wiki/Mutual_information </a>\n",
    "</p>\n",
    "\n",
    "$\n",
    "\\begin{align*}\n",
    "I(X:Y) &= H(X) - H(X|Y)\\\\\n",
    "&= H(Y)-H(Y|X)\\\\\n",
    "&= H(X)+H(Y)-H(X,Y)\n",
    "\\end{align*}\n",
    "$"
   ]
  },
  {
   "cell_type": "markdown",
   "metadata": {},
   "source": [
    "__(c) Simulate 100, 1000, 10000 data realization of these processes and compute the covariances and mutual information based on the data.__"
   ]
  },
  {
   "cell_type": "code",
   "execution_count": 2,
   "metadata": {},
   "outputs": [
    {
     "name": "stdout",
     "output_type": "stream",
     "text": [
      "Simulation data size : 100 , covariance = 0.3280808080808084, mutual information = 1.9680603760497921.\n",
      "Simulation data size : 1000 , covariance = -0.0759249249249249, mutual information = 1.95995385476241.\n",
      "Simulation data size : 10000 , covariance = -0.0010218721872184587, mutual information = 1.9478638063447309.\n",
      "Simulation data size : 100000000 , covariance = 0.00011279638568741574, mutual information = 1.9502209752071107.\n"
     ]
    }
   ],
   "source": [
    "N = [100,1000,10000,100000000]\n",
    "for n in N:\n",
    "    value = [-3,-2,-1,0,1,2,3]\n",
    "    X = np.random.choice(value, size=n)                         # simulate X\n",
    "    Y = np.abs(X)                                               # find Y\n",
    "    covariance = np.cov(np.vstack((X,Y)))[0,1]                  # calculate covariance\n",
    "    [X_value,X_count] = np.unique(X, return_counts=True)  \n",
    "    [Y_value,Y_count] = np.unique(Y, return_counts=True)\n",
    "    p_X = X_count/n                                             # find p(x)\n",
    "    p_joint = p_X                                               # p(x,y)=p(x)\n",
    "    expand_Y = np.hstack((Y_count[len(Y_count):0:-1],Y_count))  \n",
    "    p_cond = X_count/expand_Y                                   # p(x|y) = [#X=-3, #X=-2,...,#X=3] / [#Y=3,#Y=2,...,#Y=3]\n",
    "    H_X = -np.dot(p_X,np.log2(p_X))                             # calculate H(X)\n",
    "    H_cond = -np.dot(p_joint,np.log2(p_cond))                   # calculate H(X|Y)\n",
    "    I_XY = H_X-H_cond                                           # I(X:Y) = H(X)-H(X|Y)\n",
    "    print(f'Simulation data size : {n} , covariance = {covariance}, mutual information = {I_XY}.')"
   ]
  }
 ],
 "metadata": {
  "kernelspec": {
   "display_name": "Python 3",
   "language": "python",
   "name": "python3"
  },
  "language_info": {
   "codemirror_mode": {
    "name": "ipython",
    "version": 3
   },
   "file_extension": ".py",
   "mimetype": "text/x-python",
   "name": "python",
   "nbconvert_exporter": "python",
   "pygments_lexer": "ipython3",
   "version": "3.8.3"
  }
 },
 "nbformat": 4,
 "nbformat_minor": 2
}
